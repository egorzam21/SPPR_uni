{
  "nbformat": 4,
  "nbformat_minor": 0,
  "metadata": {
    "colab": {
      "provenance": []
    },
    "kernelspec": {
      "name": "python3",
      "display_name": "Python 3"
    },
    "language_info": {
      "name": "python"
    }
  },
  "cells": [
    {
      "cell_type": "markdown",
      "source": [
        "Опеределение нижней цены:"
      ],
      "metadata": {
        "id": "n0oW_4fnMty-"
      }
    },
    {
      "cell_type": "code",
      "execution_count": 2,
      "metadata": {
        "colab": {
          "base_uri": "https://localhost:8080/"
        },
        "id": "0pGp_U5jL0i5",
        "outputId": "2bcc3665-73f8-4d3e-c9c8-cee67090206f"
      },
      "outputs": [
        {
          "output_type": "stream",
          "name": "stdout",
          "text": [
            "4\n"
          ]
        }
      ],
      "source": [
        "import numpy as np\n",
        "maxmin = np.array([[0,4,2,9,11],[3,0,9,12,5],[9,4,12,12,11],[4,10,9,1,2],[2,5,9,3,7]])\n",
        "lower_price = max([min(x) for x in maxmin])\n",
        "print(lower_price)"
      ]
    },
    {
      "cell_type": "markdown",
      "source": [
        "Опеределение верхней цены:"
      ],
      "metadata": {
        "id": "h4Cm7jjvMyZz"
      }
    },
    {
      "cell_type": "code",
      "source": [
        "upper_price = min([max(x) for x in np.rot90(maxmin)])\n",
        "print(upper_price)"
      ],
      "metadata": {
        "colab": {
          "base_uri": "https://localhost:8080/"
        },
        "id": "3pXD40xeMzGk",
        "outputId": "0efe6bcb-25df-47b8-9759-dc83e24b05be"
      },
      "execution_count": 3,
      "outputs": [
        {
          "output_type": "stream",
          "name": "stdout",
          "text": [
            "9\n"
          ]
        }
      ]
    },
    {
      "cell_type": "markdown",
      "source": [
        "В матричной игре всегда α≤ β\n",
        "\n",
        "Найти сеждловую точку:"
      ],
      "metadata": {
        "id": "_Cpk_Tb0M1GT"
      }
    },
    {
      "cell_type": "code",
      "source": [
        "maxmin = np.array([[0,4,2,9,11],[3,0,9,12,5],[9,4,12,12,11],[4,10,9,1,2],[2,5,9,3,7]])\n",
        "lower_price = max([min(x) for x in maxmin])\n",
        "upper_price = min([max(x) for x in np.rot90(maxmin)])\n",
        "print(upper_price, lower_price)"
      ],
      "metadata": {
        "colab": {
          "base_uri": "https://localhost:8080/"
        },
        "id": "xLJaDS_0M3A0",
        "outputId": "f2e07cc3-5ee5-4f90-d449-d65cee81db75"
      },
      "execution_count": 4,
      "outputs": [
        {
          "output_type": "stream",
          "name": "stdout",
          "text": [
            "9 4\n"
          ]
        }
      ]
    },
    {
      "cell_type": "markdown",
      "source": [
        "Вывод. В игре нет седловой точки, поэтому первый игрок может гарантировать себе выигрыш не менее 4 единиц (нижняя цена игры) и может надеяться на выигрыш не более 9 единиц (верхняя цен игры.)\n",
        "\n",
        "Игра решается в смешанных стратегиях.\n",
        "\n",
        "Определить выигрыши игрока А в ситуации (P; Q), (P; B1), (P; B2), (P; B3)"
      ],
      "metadata": {
        "id": "OKKya9FRM480"
      }
    },
    {
      "cell_type": "code",
      "source": [
        "matrix  = np.array([[0,4,2,9,11],[3,0,9,12,5],[9,4,12,12,11],[4,10,9,1,2],[2,5,9,3,7]])\n",
        "q=[0.55, 0.45, 0.0, 0.0, 0.0]\n",
        "p=[0.0, 0.0, 0.55, 0.45, 0.0]\n",
        "answer = {}\n",
        "\n",
        "lower_price = max([min(x) for x in matrix])\n",
        "upper_price = min([max(x) for x in np.rot90(matrix)])\n",
        "if lower_price==upper_price:print(\"седловая точка есть\", f\"ответ v={lower_price}\")\n",
        "else:\n",
        "  buff=0\n",
        "  for i,pin in zip(matrix,p):\n",
        "    buff+=pin*sum([x*y for x,y in zip(i,q)])\n",
        "  answer[\"H(P,Q)\"]=buff\n",
        "  for k, i  in enumerate(np.rot90(matrix),1):\n",
        "    answer[\"H(P,B{})\".format(k)]=sum([x*y for x,y in zip(i,p)])\n",
        "for i in [(x,y) for x,y in answer.items()]:\n",
        "  print(\"Ответ выйгрыш игрока А в ситуации {0[0]} = {0[1]}\".format(i))"
      ],
      "metadata": {
        "colab": {
          "base_uri": "https://localhost:8080/"
        },
        "id": "VYYF3I5oM6yM",
        "outputId": "a7b6bfcd-ce4d-4f78-aeb2-adbd292031fa"
      },
      "execution_count": 5,
      "outputs": [
        {
          "output_type": "stream",
          "name": "stdout",
          "text": [
            "Ответ выйгрыш игрока А в ситуации H(P,Q) = 6.727500000000001\n",
            "Ответ выйгрыш игрока А в ситуации H(P,B1) = 6.950000000000001\n",
            "Ответ выйгрыш игрока А в ситуации H(P,B2) = 7.050000000000001\n",
            "Ответ выйгрыш игрока А в ситуации H(P,B3) = 10.65\n",
            "Ответ выйгрыш игрока А в ситуации H(P,B4) = 6.7\n",
            "Ответ выйгрыш игрока А в ситуации H(P,B5) = 6.75\n"
          ]
        }
      ]
    },
    {
      "cell_type": "code",
      "source": [
        "answer"
      ],
      "metadata": {
        "colab": {
          "base_uri": "https://localhost:8080/"
        },
        "id": "Z0k6SVqqM-rT",
        "outputId": "9fdec23c-88e5-4cf9-d608-a3e5570d76c1"
      },
      "execution_count": 6,
      "outputs": [
        {
          "output_type": "execute_result",
          "data": {
            "text/plain": [
              "{'H(P,Q)': np.float64(6.727500000000001),\n",
              " 'H(P,B1)': np.float64(6.950000000000001),\n",
              " 'H(P,B2)': np.float64(7.050000000000001),\n",
              " 'H(P,B3)': np.float64(10.65),\n",
              " 'H(P,B4)': np.float64(6.7),\n",
              " 'H(P,B5)': np.float64(6.75)}"
            ]
          },
          "metadata": {},
          "execution_count": 6
        }
      ]
    }
  ]
}
