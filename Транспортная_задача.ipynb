{
  "nbformat": 4,
  "nbformat_minor": 0,
  "metadata": {
    "colab": {
      "provenance": []
    },
    "kernelspec": {
      "name": "python3",
      "display_name": "Python 3"
    },
    "language_info": {
      "name": "python"
    }
  },
  "cells": [
    {
      "cell_type": "code",
      "execution_count": 1,
      "metadata": {
        "colab": {
          "base_uri": "https://localhost:8080/"
        },
        "id": "0pGp_U5jL0i5",
        "outputId": "7e35c0a3-5c5e-41f1-b759-8b758a705edf"
      },
      "outputs": [
        {
          "output_type": "stream",
          "name": "stdout",
          "text": [
            "Результат Xopt:\n",
            "0.0\n",
            "0.0\n",
            "0.0\n",
            "0.0\n",
            "300.0\n",
            "0.0\n",
            "0.0\n",
            "300.0\n",
            "0.0\n",
            "300.0\n",
            "0.0\n",
            "100.0\n",
            "0.0\n",
            "0.0\n",
            "0.0\n",
            "0.0\n",
            "0.0\n",
            "0.0\n",
            "300.0\n",
            "0.0\n",
            "100.0\n",
            "200.0\n",
            "0.0\n",
            "0.0\n",
            "0.0\n",
            "Стоимость доставки:\n",
            "5200.0\n",
            "Время :\n",
            "0.07606196403503418\n"
          ]
        }
      ],
      "source": [
        "from cvxopt.modeling import variable, op\n",
        "import time\n",
        "start = time.time()\n",
        "x = variable(25, 'x')\n",
        "c= [4,2,2,5,3,3,3,4,5,5,1,2,3,4,6,2,6,1,1,8,3,4,5,5,9]\n",
        "z=(c[0]*x[0] + c[1]*x[1] +c[2]* x[2] +c[3]*x[3] + c[4]*x[4] +c[5]* x[5]+c[6]*x[6] +c[7]*x[7] +c[8]* x[8]+c[9]*x[9] + c[10]*x[10] +c[11]* x[11] +c[12]*x[12] + c[13]*x[13] +c[14]* x[14]+c[15]*x[15] +c[16]*x[16] +c[17]* x[17] + c[18]*x[18] +c[19]* x[19]+c[20]*x[20] +c[21]*x[21] +c[22]* x[22]+c[23]*x[23] +c[24]*x[24])\n",
        "mass1 = (x[0] + x[1] +x[2]+ x[3] +x[4] <= 300)\n",
        "mass2 = (x[5] + x[6] +x[7]+ x[8] +x[9] <= 600)\n",
        "mass3 = (x[10] + x[11] +x[12]+ x[13] +x[14] <= 100)\n",
        "mass4 = (x[15] + x[16] +x[17]+ x[18] +x[19] <= 300)\n",
        "mass5 = (x[20] + x[21] +x[22]+ x[23] +x[24] <= 600)\n",
        "\n",
        "mass6 =(x[0]+x[5]+x[10]+x[15]+x[20]==100)\n",
        "mass7 =(x[1]+x[6]+x[11]+x[16]+x[21]==300)\n",
        "mass8 =(x[2]+x[7]+x[12]+x[17]+x[22]==300)\n",
        "mass9 =(x[3]+x[8]+x[13]+x[18]+x[23]==300)\n",
        "mass10 =(x[4]+x[9]+x[14]+x[19]+x[24]==600)\n",
        "x_non_negative = (x >= 0)\n",
        "problem =op(z,[mass1,mass2,mass3,mass4 ,mass5,mass6, mass7, mass8, mass9, mass10,x_non_negative])\n",
        "problem.solve(solver='glpk')\n",
        "print(\"Результат Xopt:\")\n",
        "for i in x.value:\n",
        "         print(i)\n",
        "print(\"Стоимость доставки:\")\n",
        "print(problem.objective.value()[0])\n",
        "stop = time.time()\n",
        "print (\"Время :\")\n",
        "print(stop - start)"
      ]
    }
  ]
}